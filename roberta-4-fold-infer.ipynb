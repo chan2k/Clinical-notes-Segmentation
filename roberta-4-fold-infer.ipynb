{
 "cells": [
  {
   "cell_type": "code",
   "execution_count": 1,
   "id": "b7912a2a",
   "metadata": {
    "_cell_guid": "b1076dfc-b9ad-4769-8c92-a6c4dae69d19",
    "_uuid": "8f2839f25d086af736a60e9eeb907d3b93b6e0e5",
    "execution": {
     "iopub.execute_input": "2022-04-27T07:12:10.932799Z",
     "iopub.status.busy": "2022-04-27T07:12:10.932487Z",
     "iopub.status.idle": "2022-04-27T07:12:17.417726Z",
     "shell.execute_reply": "2022-04-27T07:12:17.416952Z"
    },
    "papermill": {
     "duration": 6.500055,
     "end_time": "2022-04-27T07:12:17.419729",
     "exception": false,
     "start_time": "2022-04-27T07:12:10.919674",
     "status": "completed"
    },
    "tags": []
   },
   "outputs": [
    {
     "name": "stdout",
     "output_type": "stream",
     "text": [
      "tokenizers.__version__: 0.11.6\n",
      "transformers.__version__: 4.17.0\n"
     ]
    }
   ],
   "source": [
    "import os\n",
    "import gc\n",
    "import re\n",
    "import ast\n",
    "import sys\n",
    "import copy\n",
    "import json\n",
    "import time\n",
    "import math\n",
    "import string\n",
    "import pickle\n",
    "import random\n",
    "import joblib\n",
    "import itertools\n",
    "import warnings\n",
    "warnings.filterwarnings(\"ignore\")\n",
    "\n",
    "import scipy as sp\n",
    "import numpy as np\n",
    "import pandas as pd\n",
    "pd.set_option('display.max_rows', 500)\n",
    "pd.set_option('display.max_columns', 500)\n",
    "pd.set_option('display.width', 1000)\n",
    "from tqdm.auto import tqdm\n",
    "from sklearn import metrics, model_selection\n",
    "from sklearn.model_selection import StratifiedKFold, GroupKFold, KFold\n",
    "\n",
    "import torch\n",
    "import torch.nn as nn\n",
    "from torch.nn import Parameter\n",
    "import torch.nn.functional as F\n",
    "from torch.optim import Adam, SGD, AdamW\n",
    "from torch.utils.data import DataLoader, Dataset\n",
    "import tokenizers\n",
    "import transformers\n",
    "print(f\"tokenizers.__version__: {tokenizers.__version__}\")\n",
    "print(f\"transformers.__version__: {transformers.__version__}\")\n",
    "from transformers import AutoTokenizer, AutoModel, AutoConfig\n",
    "from transformers import get_linear_schedule_with_warmup, get_cosine_schedule_with_warmup\n"
   ]
  },
  {
   "cell_type": "code",
   "execution_count": 2,
   "id": "c349419e",
   "metadata": {
    "execution": {
     "iopub.execute_input": "2022-04-27T07:12:17.442589Z",
     "iopub.status.busy": "2022-04-27T07:12:17.442042Z",
     "iopub.status.idle": "2022-04-27T07:12:17.445943Z",
     "shell.execute_reply": "2022-04-27T07:12:17.445268Z"
    },
    "papermill": {
     "duration": 0.016663,
     "end_time": "2022-04-27T07:12:17.447428",
     "exception": false,
     "start_time": "2022-04-27T07:12:17.430765",
     "status": "completed"
    },
    "tags": []
   },
   "outputs": [],
   "source": [
    "ROOT = '../input/nbme-score-clinical-patient-notes'\n",
    "MODEL_NAME = '../input/robertalarge/RoBERTa-large-PM-M3-Voc/RoBERTa-large-PM-M3-Voc-hf'\n",
    "#BATCH_SIZE = 16\n",
    "BATCH_SIZE = 4\n",
    "N_FOLDS = 5\n",
    "#N_FOLDS = 10\n",
    "trn_folds=[0,1]\n",
    "MODELS_PATH = '../input/robertalarge5best/roberta-4fold-models'"
   ]
  },
  {
   "cell_type": "code",
   "execution_count": 3,
   "id": "65047d96",
   "metadata": {
    "execution": {
     "iopub.execute_input": "2022-04-27T07:12:17.469471Z",
     "iopub.status.busy": "2022-04-27T07:12:17.468879Z",
     "iopub.status.idle": "2022-04-27T07:12:17.521843Z",
     "shell.execute_reply": "2022-04-27T07:12:17.521192Z"
    },
    "papermill": {
     "duration": 0.065578,
     "end_time": "2022-04-27T07:12:17.523527",
     "exception": false,
     "start_time": "2022-04-27T07:12:17.457949",
     "status": "completed"
    },
    "tags": []
   },
   "outputs": [
    {
     "data": {
      "text/plain": [
       "'cuda'"
      ]
     },
     "execution_count": 3,
     "metadata": {},
     "output_type": "execute_result"
    }
   ],
   "source": [
    "DEVICE = \"cuda\" if torch.cuda.is_available() else \"cpu\"\n",
    "DEVICE"
   ]
  },
  {
   "cell_type": "code",
   "execution_count": 4,
   "id": "73e27904",
   "metadata": {
    "execution": {
     "iopub.execute_input": "2022-04-27T07:12:17.546021Z",
     "iopub.status.busy": "2022-04-27T07:12:17.545829Z",
     "iopub.status.idle": "2022-04-27T07:12:17.552303Z",
     "shell.execute_reply": "2022-04-27T07:12:17.551646Z"
    },
    "papermill": {
     "duration": 0.019527,
     "end_time": "2022-04-27T07:12:17.553922",
     "exception": false,
     "start_time": "2022-04-27T07:12:17.534395",
     "status": "completed"
    },
    "tags": []
   },
   "outputs": [],
   "source": [
    "def create_test_df():\n",
    "    feats = pd.read_csv(f\"{ROOT}/features.csv\")\n",
    "    notes = pd.read_csv(f\"{ROOT}/patient_notes.csv\")\n",
    "    test = pd.read_csv(f\"{ROOT}/test.csv\")\n",
    "\n",
    "    merged = test.merge(notes, how = \"left\")\n",
    "    merged = merged.merge(feats, how = \"left\")\n",
    "\n",
    "    def process_feature_text(text):\n",
    "        return text.replace('-OR-',' or ').replace('-',' ')\n",
    "    def clean_backslash_chars(text):\n",
    "        return text.replace('\\n',' ').replace('\\s',' ').replace('\\t',' ')\n",
    "    \n",
    "    merged[\"feature_text\"] = [process_feature_text(x) for x in merged[\"feature_text\"]]\n",
    "    merged['pn_history']=merged['pn_history'].apply(lambda x: x.strip()).apply(clean_backslash_chars)\n",
    "    \n",
    "    print(merged.shape)\n",
    "    return merged"
   ]
  },
  {
   "cell_type": "code",
   "execution_count": 5,
   "id": "e84da6a5",
   "metadata": {
    "execution": {
     "iopub.execute_input": "2022-04-27T07:12:17.575891Z",
     "iopub.status.busy": "2022-04-27T07:12:17.575711Z",
     "iopub.status.idle": "2022-04-27T07:12:17.582709Z",
     "shell.execute_reply": "2022-04-27T07:12:17.581962Z"
    },
    "papermill": {
     "duration": 0.020342,
     "end_time": "2022-04-27T07:12:17.584785",
     "exception": false,
     "start_time": "2022-04-27T07:12:17.564443",
     "status": "completed"
    },
    "tags": []
   },
   "outputs": [],
   "source": [
    "class NBMETestData(torch.utils.data.Dataset):\n",
    "    def __init__(self, data, tokenizer):\n",
    "        self.data = data\n",
    "        self.tokenizer = tokenizer\n",
    "    \n",
    "    def __len__(self):\n",
    "        return len(self.data)\n",
    "    \n",
    "    def __getitem__(self, idx):\n",
    "        example = self.data.loc[idx]\n",
    "        tokenized = self.tokenizer(\n",
    "            example[\"feature_text\"],\n",
    "            example[\"pn_history\"],\n",
    "            truncation = \"only_second\",\n",
    "            max_length = 416, ##max-length\n",
    "            padding = \"max_length\",\n",
    "            return_offsets_mapping = True\n",
    "        )\n",
    "        tokenized[\"sequence_ids\"] = tokenized.sequence_ids()\n",
    "\n",
    "        input_ids = np.array(tokenized[\"input_ids\"])\n",
    "        attention_mask = np.array(tokenized[\"attention_mask\"])\n",
    "        offset_mapping = np.array(tokenized[\"offset_mapping\"])\n",
    "        sequence_ids = np.array(tokenized[\"sequence_ids\"]).astype(\"float16\")\n",
    "\n",
    "        return input_ids, attention_mask, offset_mapping, sequence_ids"
   ]
  },
  {
   "cell_type": "code",
   "execution_count": 6,
   "id": "7b3b7e8a",
   "metadata": {
    "execution": {
     "iopub.execute_input": "2022-04-27T07:12:17.606924Z",
     "iopub.status.busy": "2022-04-27T07:12:17.606647Z",
     "iopub.status.idle": "2022-04-27T07:12:17.613856Z",
     "shell.execute_reply": "2022-04-27T07:12:17.613259Z"
    },
    "papermill": {
     "duration": 0.02025,
     "end_time": "2022-04-27T07:12:17.615591",
     "exception": false,
     "start_time": "2022-04-27T07:12:17.595341",
     "status": "completed"
    },
    "tags": []
   },
   "outputs": [],
   "source": [
    "class NBMEModel(torch.nn.Module):\n",
    "    def __init__(self):\n",
    "        super().__init__()\n",
    "        self.backbone = AutoModel.from_pretrained(MODEL_NAME)\n",
    "        self.config = AutoConfig.from_pretrained(MODEL_NAME)\n",
    "#         self.backbone = AutoModel.from_pretrained(\"emilyalsentzer/Bio_ClinicalBERT\")\n",
    "#         self.config = AutoConfig.from_pretrained(\"emilyalsentzer/Bio_ClinicalBERT\")\n",
    "        self.dropout = torch.nn.Dropout(p=0.2)\n",
    "        self.classifier = torch.nn.Linear(self.config.hidden_size,512)\n",
    "        self.fc2 = nn.Linear(512, 512)\n",
    "        self.fc3 = nn.Linear(512, 1)\n",
    "        \n",
    "    def forward(self, input_ids, attention_mask):\n",
    "        pooler_outputs = self.backbone(input_ids=input_ids, \n",
    "                                       attention_mask=attention_mask)[0]\n",
    "        #logits = self.classifier(self.dropout(pooler_outputs)).squeeze(-1)\n",
    "        logits = self.classifier(self.dropout(pooler_outputs)).squeeze(-1)\n",
    "        logits = torch.nn.ReLU()(logits)\n",
    "        #logits = self.fc2(self.dropout(logits))\n",
    "        logits = self.fc3(self.dropout(logits)).squeeze(-1)\n",
    "        return logits"
   ]
  },
  {
   "cell_type": "code",
   "execution_count": 7,
   "id": "60bcc09f",
   "metadata": {
    "execution": {
     "iopub.execute_input": "2022-04-27T07:12:17.637852Z",
     "iopub.status.busy": "2022-04-27T07:12:17.637351Z",
     "iopub.status.idle": "2022-04-27T07:12:17.644820Z",
     "shell.execute_reply": "2022-04-27T07:12:17.644176Z"
    },
    "papermill": {
     "duration": 0.02037,
     "end_time": "2022-04-27T07:12:17.646411",
     "exception": false,
     "start_time": "2022-04-27T07:12:17.626041",
     "status": "completed"
    },
    "tags": []
   },
   "outputs": [],
   "source": [
    "def sigmoid(z):\n",
    "    return 1 / (1 + np.exp(-z))\n",
    "\n",
    "def get_location_predictions(preds, offset_mapping, sequence_ids, test = False):\n",
    "    all_predictions = []\n",
    "    for pred, offsets, seq_ids in zip(preds, offset_mapping, sequence_ids):\n",
    "        pred = sigmoid(pred)\n",
    "        start_idx = None\n",
    "        current_preds = []\n",
    "        for p, o, s_id in zip(pred, offsets, seq_ids):\n",
    "            if s_id is None or s_id == 0:\n",
    "                continue\n",
    "            if p > 0.5:\n",
    "                if start_idx is None:\n",
    "                    start_idx = o[0]\n",
    "                end_idx = o[1]\n",
    "            elif start_idx is not None:\n",
    "                if test:\n",
    "                    current_preds.append(f\"{start_idx} {end_idx}\")\n",
    "                else:\n",
    "                    current_preds.append((start_idx, end_idx))\n",
    "                start_idx = None\n",
    "        if test:\n",
    "            all_predictions.append(\"; \".join(current_preds))\n",
    "        else:\n",
    "            all_predictions.append(current_preds)\n",
    "    return all_predictions\n"
   ]
  },
  {
   "cell_type": "code",
   "execution_count": 8,
   "id": "aa88e04c",
   "metadata": {
    "execution": {
     "iopub.execute_input": "2022-04-27T07:12:17.668884Z",
     "iopub.status.busy": "2022-04-27T07:12:17.668361Z",
     "iopub.status.idle": "2022-04-27T07:12:18.532595Z",
     "shell.execute_reply": "2022-04-27T07:12:18.531873Z"
    },
    "papermill": {
     "duration": 0.878155,
     "end_time": "2022-04-27T07:12:18.535171",
     "exception": false,
     "start_time": "2022-04-27T07:12:17.657016",
     "status": "completed"
    },
    "tags": []
   },
   "outputs": [
    {
     "name": "stderr",
     "output_type": "stream",
     "text": [
      "Special tokens have been added in the vocabulary, make sure the associated word embeddings are fine-tuned or trained.\n",
      "Special tokens have been added in the vocabulary, make sure the associated word embeddings are fine-tuned or trained.\n"
     ]
    },
    {
     "name": "stdout",
     "output_type": "stream",
     "text": [
      "(5, 6)\n"
     ]
    }
   ],
   "source": [
    "tokenizer = AutoTokenizer.from_pretrained(MODEL_NAME)\n",
    "\n",
    "test = create_test_df()\n",
    "test_ds = NBMETestData(test, tokenizer)\n",
    "test_dl = torch.utils.data.DataLoader(test_ds, batch_size=BATCH_SIZE, pin_memory=True, \n",
    "                                      shuffle=False, drop_last=False)"
   ]
  },
  {
   "cell_type": "code",
   "execution_count": 9,
   "id": "ceb39091",
   "metadata": {
    "execution": {
     "iopub.execute_input": "2022-04-27T07:12:18.560837Z",
     "iopub.status.busy": "2022-04-27T07:12:18.560230Z",
     "iopub.status.idle": "2022-04-27T07:13:08.281530Z",
     "shell.execute_reply": "2022-04-27T07:13:08.280679Z"
    },
    "papermill": {
     "duration": 49.7355,
     "end_time": "2022-04-27T07:13:08.283254",
     "exception": false,
     "start_time": "2022-04-27T07:12:18.547754",
     "status": "completed"
    },
    "tags": []
   },
   "outputs": [
    {
     "name": "stderr",
     "output_type": "stream",
     "text": [
      "Some weights of the model checkpoint at ../input/robertalarge/RoBERTa-large-PM-M3-Voc/RoBERTa-large-PM-M3-Voc-hf were not used when initializing RobertaModel: ['lm_head.bias', 'lm_head.dense.bias', 'lm_head.decoder.bias', 'lm_head.layer_norm.weight', 'lm_head.dense.weight', 'lm_head.layer_norm.bias', 'lm_head.decoder.weight']\n",
      "- This IS expected if you are initializing RobertaModel from the checkpoint of a model trained on another task or with another architecture (e.g. initializing a BertForSequenceClassification model from a BertForPreTraining model).\n",
      "- This IS NOT expected if you are initializing RobertaModel from the checkpoint of a model that you expect to be exactly identical (initializing a BertForSequenceClassification model from a BertForSequenceClassification model).\n"
     ]
    },
    {
     "data": {
      "application/vnd.jupyter.widget-view+json": {
       "model_id": "2c8f9706818c407abb0a51b4536af925",
       "version_major": 2,
       "version_minor": 0
      },
      "text/plain": [
       "  0%|          | 0/2 [00:00<?, ?it/s]"
      ]
     },
     "metadata": {},
     "output_type": "display_data"
    },
    {
     "name": "stderr",
     "output_type": "stream",
     "text": [
      "Some weights of the model checkpoint at ../input/robertalarge/RoBERTa-large-PM-M3-Voc/RoBERTa-large-PM-M3-Voc-hf were not used when initializing RobertaModel: ['lm_head.bias', 'lm_head.dense.bias', 'lm_head.decoder.bias', 'lm_head.layer_norm.weight', 'lm_head.dense.weight', 'lm_head.layer_norm.bias', 'lm_head.decoder.weight']\n",
      "- This IS expected if you are initializing RobertaModel from the checkpoint of a model trained on another task or with another architecture (e.g. initializing a BertForSequenceClassification model from a BertForPreTraining model).\n",
      "- This IS NOT expected if you are initializing RobertaModel from the checkpoint of a model that you expect to be exactly identical (initializing a BertForSequenceClassification model from a BertForSequenceClassification model).\n"
     ]
    },
    {
     "data": {
      "application/vnd.jupyter.widget-view+json": {
       "model_id": "d367443eeba244de837d19296cd98876",
       "version_major": 2,
       "version_minor": 0
      },
      "text/plain": [
       "  0%|          | 0/2 [00:00<?, ?it/s]"
      ]
     },
     "metadata": {},
     "output_type": "display_data"
    },
    {
     "name": "stdout",
     "output_type": "stream",
     "text": [
      "(5, 416) (5, 416, 2) (5, 416)\n"
     ]
    }
   ],
   "source": [
    "all_preds = None\n",
    "offsets = []\n",
    "seq_ids = []\n",
    "\n",
    "for fold in trn_folds:\n",
    "    model = NBMEModel().to(DEVICE)\n",
    "    model.load_state_dict(torch.load(f'{MODELS_PATH}/nbme_{fold}.pth', map_location=DEVICE))\n",
    "    model.eval()\n",
    "    preds = []\n",
    "    with torch.no_grad():\n",
    "        for batch in tqdm(test_dl):\n",
    "            input_ids = batch[0].to(DEVICE)\n",
    "            attention_mask = batch[1].to(DEVICE)\n",
    "            logits = model(input_ids, attention_mask)\n",
    "            preds.append(logits.cpu().numpy())\n",
    "            if fold == 0:                  # only in the first fold\n",
    "                offset_mapping = batch[2]\n",
    "                sequence_ids = batch[3]\n",
    "                offsets.append(offset_mapping.numpy())\n",
    "                seq_ids.append(sequence_ids.numpy())\n",
    "    preds = np.concatenate(preds, axis=0)\n",
    "    if all_preds is None:\n",
    "        all_preds = np.array(preds).astype(np.float32)\n",
    "    else:\n",
    "        all_preds += np.array(preds).astype(np.float32)\n",
    "    torch.cuda.empty_cache()\n",
    "    \n",
    "    \n",
    "all_preds /= N_FOLDS\n",
    "all_preds = all_preds.squeeze()\n",
    "\n",
    "offsets = np.concatenate(offsets, axis=0)\n",
    "seq_ids = np.concatenate(seq_ids, axis=0)\n",
    "\n",
    "print(all_preds.shape, offsets.shape, seq_ids.shape)\n"
   ]
  },
  {
   "cell_type": "code",
   "execution_count": 10,
   "id": "1ed6f3e9",
   "metadata": {
    "execution": {
     "iopub.execute_input": "2022-04-27T07:13:08.312602Z",
     "iopub.status.busy": "2022-04-27T07:13:08.312391Z",
     "iopub.status.idle": "2022-04-27T07:13:08.341213Z",
     "shell.execute_reply": "2022-04-27T07:13:08.340414Z"
    },
    "papermill": {
     "duration": 0.045492,
     "end_time": "2022-04-27T07:13:08.342968",
     "exception": false,
     "start_time": "2022-04-27T07:13:08.297476",
     "status": "completed"
    },
    "tags": []
   },
   "outputs": [
    {
     "data": {
      "text/html": [
       "<div>\n",
       "<style scoped>\n",
       "    .dataframe tbody tr th:only-of-type {\n",
       "        vertical-align: middle;\n",
       "    }\n",
       "\n",
       "    .dataframe tbody tr th {\n",
       "        vertical-align: top;\n",
       "    }\n",
       "\n",
       "    .dataframe thead th {\n",
       "        text-align: right;\n",
       "    }\n",
       "</style>\n",
       "<table border=\"1\" class=\"dataframe\">\n",
       "  <thead>\n",
       "    <tr style=\"text-align: right;\">\n",
       "      <th></th>\n",
       "      <th>id</th>\n",
       "      <th>location</th>\n",
       "    </tr>\n",
       "  </thead>\n",
       "  <tbody>\n",
       "    <tr>\n",
       "      <th>0</th>\n",
       "      <td>00016_000</td>\n",
       "      <td>696 724</td>\n",
       "    </tr>\n",
       "    <tr>\n",
       "      <th>1</th>\n",
       "      <td>00016_001</td>\n",
       "      <td>668 693</td>\n",
       "    </tr>\n",
       "    <tr>\n",
       "      <th>2</th>\n",
       "      <td>00016_002</td>\n",
       "      <td>203 217</td>\n",
       "    </tr>\n",
       "    <tr>\n",
       "      <th>3</th>\n",
       "      <td>00016_003</td>\n",
       "      <td>70 91</td>\n",
       "    </tr>\n",
       "    <tr>\n",
       "      <th>4</th>\n",
       "      <td>00016_004</td>\n",
       "      <td>222 258</td>\n",
       "    </tr>\n",
       "  </tbody>\n",
       "</table>\n",
       "</div>"
      ],
      "text/plain": [
       "          id location\n",
       "0  00016_000  696 724\n",
       "1  00016_001  668 693\n",
       "2  00016_002  203 217\n",
       "3  00016_003    70 91\n",
       "4  00016_004  222 258"
      ]
     },
     "execution_count": 10,
     "metadata": {},
     "output_type": "execute_result"
    }
   ],
   "source": [
    "location_preds = get_location_predictions(all_preds, offsets, seq_ids, test=True)\n",
    "\n",
    "test[\"location\"] = location_preds\n",
    "test[[\"id\", \"location\"]].to_csv(\"submission.csv\", index = False)\n",
    "pd.read_csv(\"submission.csv\").head()"
   ]
  },
  {
   "cell_type": "code",
   "execution_count": null,
   "id": "ac9bf6d9",
   "metadata": {
    "papermill": {
     "duration": 0.01671,
     "end_time": "2022-04-27T07:13:08.374240",
     "exception": false,
     "start_time": "2022-04-27T07:13:08.357530",
     "status": "completed"
    },
    "tags": []
   },
   "outputs": [],
   "source": []
  }
 ],
 "metadata": {
  "kernelspec": {
   "display_name": "Python 3",
   "language": "python",
   "name": "python3"
  },
  "language_info": {
   "codemirror_mode": {
    "name": "ipython",
    "version": 3
   },
   "file_extension": ".py",
   "mimetype": "text/x-python",
   "name": "python",
   "nbconvert_exporter": "python",
   "pygments_lexer": "ipython3",
   "version": "3.7.12"
  },
  "papermill": {
   "default_parameters": {},
   "duration": 68.295481,
   "end_time": "2022-04-27T07:13:11.358217",
   "environment_variables": {},
   "exception": null,
   "input_path": "__notebook__.ipynb",
   "output_path": "__notebook__.ipynb",
   "parameters": {},
   "start_time": "2022-04-27T07:12:03.062736",
   "version": "2.3.4"
  },
  "widgets": {
   "application/vnd.jupyter.widget-state+json": {
    "state": {
     "02ed9f1d1fcc47909aae2ad5d7012199": {
      "model_module": "@jupyter-widgets/base",
      "model_module_version": "1.2.0",
      "model_name": "LayoutModel",
      "state": {
       "_model_module": "@jupyter-widgets/base",
       "_model_module_version": "1.2.0",
       "_model_name": "LayoutModel",
       "_view_count": null,
       "_view_module": "@jupyter-widgets/base",
       "_view_module_version": "1.2.0",
       "_view_name": "LayoutView",
       "align_content": null,
       "align_items": null,
       "align_self": null,
       "border": null,
       "bottom": null,
       "display": null,
       "flex": null,
       "flex_flow": null,
       "grid_area": null,
       "grid_auto_columns": null,
       "grid_auto_flow": null,
       "grid_auto_rows": null,
       "grid_column": null,
       "grid_gap": null,
       "grid_row": null,
       "grid_template_areas": null,
       "grid_template_columns": null,
       "grid_template_rows": null,
       "height": null,
       "justify_content": null,
       "justify_items": null,
       "left": null,
       "margin": null,
       "max_height": null,
       "max_width": null,
       "min_height": null,
       "min_width": null,
       "object_fit": null,
       "object_position": null,
       "order": null,
       "overflow": null,
       "overflow_x": null,
       "overflow_y": null,
       "padding": null,
       "right": null,
       "top": null,
       "visibility": null,
       "width": null
      }
     },
     "0f7be620da92417ca7337033571be334": {
      "model_module": "@jupyter-widgets/base",
      "model_module_version": "1.2.0",
      "model_name": "LayoutModel",
      "state": {
       "_model_module": "@jupyter-widgets/base",
       "_model_module_version": "1.2.0",
       "_model_name": "LayoutModel",
       "_view_count": null,
       "_view_module": "@jupyter-widgets/base",
       "_view_module_version": "1.2.0",
       "_view_name": "LayoutView",
       "align_content": null,
       "align_items": null,
       "align_self": null,
       "border": null,
       "bottom": null,
       "display": null,
       "flex": null,
       "flex_flow": null,
       "grid_area": null,
       "grid_auto_columns": null,
       "grid_auto_flow": null,
       "grid_auto_rows": null,
       "grid_column": null,
       "grid_gap": null,
       "grid_row": null,
       "grid_template_areas": null,
       "grid_template_columns": null,
       "grid_template_rows": null,
       "height": null,
       "justify_content": null,
       "justify_items": null,
       "left": null,
       "margin": null,
       "max_height": null,
       "max_width": null,
       "min_height": null,
       "min_width": null,
       "object_fit": null,
       "object_position": null,
       "order": null,
       "overflow": null,
       "overflow_x": null,
       "overflow_y": null,
       "padding": null,
       "right": null,
       "top": null,
       "visibility": null,
       "width": null
      }
     },
     "2133a6bb329b4d3988e68ae0c5c50903": {
      "model_module": "@jupyter-widgets/controls",
      "model_module_version": "1.5.0",
      "model_name": "FloatProgressModel",
      "state": {
       "_dom_classes": [],
       "_model_module": "@jupyter-widgets/controls",
       "_model_module_version": "1.5.0",
       "_model_name": "FloatProgressModel",
       "_view_count": null,
       "_view_module": "@jupyter-widgets/controls",
       "_view_module_version": "1.5.0",
       "_view_name": "ProgressView",
       "bar_style": "success",
       "description": "",
       "description_tooltip": null,
       "layout": "IPY_MODEL_a665819826834d2ab0ddd37790b06cab",
       "max": 2.0,
       "min": 0.0,
       "orientation": "horizontal",
       "style": "IPY_MODEL_609e6ec57386440096e7013232d1a6bc",
       "value": 2.0
      }
     },
     "2c8f9706818c407abb0a51b4536af925": {
      "model_module": "@jupyter-widgets/controls",
      "model_module_version": "1.5.0",
      "model_name": "HBoxModel",
      "state": {
       "_dom_classes": [],
       "_model_module": "@jupyter-widgets/controls",
       "_model_module_version": "1.5.0",
       "_model_name": "HBoxModel",
       "_view_count": null,
       "_view_module": "@jupyter-widgets/controls",
       "_view_module_version": "1.5.0",
       "_view_name": "HBoxView",
       "box_style": "",
       "children": [
        "IPY_MODEL_b9b96f7fce9a41259fab372267fd898f",
        "IPY_MODEL_2cfe64df6c6d4f4f8866611e7e309c44",
        "IPY_MODEL_a8311750eb914ef7b9616c9cb32ef05c"
       ],
       "layout": "IPY_MODEL_7494e01e4c6d4f549d35f7dd1097837d"
      }
     },
     "2cfe64df6c6d4f4f8866611e7e309c44": {
      "model_module": "@jupyter-widgets/controls",
      "model_module_version": "1.5.0",
      "model_name": "FloatProgressModel",
      "state": {
       "_dom_classes": [],
       "_model_module": "@jupyter-widgets/controls",
       "_model_module_version": "1.5.0",
       "_model_name": "FloatProgressModel",
       "_view_count": null,
       "_view_module": "@jupyter-widgets/controls",
       "_view_module_version": "1.5.0",
       "_view_name": "ProgressView",
       "bar_style": "success",
       "description": "",
       "description_tooltip": null,
       "layout": "IPY_MODEL_0f7be620da92417ca7337033571be334",
       "max": 2.0,
       "min": 0.0,
       "orientation": "horizontal",
       "style": "IPY_MODEL_de21ba6cf1d1401daa3c1a6a6101d03a",
       "value": 2.0
      }
     },
     "4d83e2359e4f4e3b98d0bdc9b87df2ec": {
      "model_module": "@jupyter-widgets/controls",
      "model_module_version": "1.5.0",
      "model_name": "DescriptionStyleModel",
      "state": {
       "_model_module": "@jupyter-widgets/controls",
       "_model_module_version": "1.5.0",
       "_model_name": "DescriptionStyleModel",
       "_view_count": null,
       "_view_module": "@jupyter-widgets/base",
       "_view_module_version": "1.2.0",
       "_view_name": "StyleView",
       "description_width": ""
      }
     },
     "609e6ec57386440096e7013232d1a6bc": {
      "model_module": "@jupyter-widgets/controls",
      "model_module_version": "1.5.0",
      "model_name": "ProgressStyleModel",
      "state": {
       "_model_module": "@jupyter-widgets/controls",
       "_model_module_version": "1.5.0",
       "_model_name": "ProgressStyleModel",
       "_view_count": null,
       "_view_module": "@jupyter-widgets/base",
       "_view_module_version": "1.2.0",
       "_view_name": "StyleView",
       "bar_color": null,
       "description_width": ""
      }
     },
     "7070850d7b684eb98f091c09be47f900": {
      "model_module": "@jupyter-widgets/base",
      "model_module_version": "1.2.0",
      "model_name": "LayoutModel",
      "state": {
       "_model_module": "@jupyter-widgets/base",
       "_model_module_version": "1.2.0",
       "_model_name": "LayoutModel",
       "_view_count": null,
       "_view_module": "@jupyter-widgets/base",
       "_view_module_version": "1.2.0",
       "_view_name": "LayoutView",
       "align_content": null,
       "align_items": null,
       "align_self": null,
       "border": null,
       "bottom": null,
       "display": null,
       "flex": null,
       "flex_flow": null,
       "grid_area": null,
       "grid_auto_columns": null,
       "grid_auto_flow": null,
       "grid_auto_rows": null,
       "grid_column": null,
       "grid_gap": null,
       "grid_row": null,
       "grid_template_areas": null,
       "grid_template_columns": null,
       "grid_template_rows": null,
       "height": null,
       "justify_content": null,
       "justify_items": null,
       "left": null,
       "margin": null,
       "max_height": null,
       "max_width": null,
       "min_height": null,
       "min_width": null,
       "object_fit": null,
       "object_position": null,
       "order": null,
       "overflow": null,
       "overflow_x": null,
       "overflow_y": null,
       "padding": null,
       "right": null,
       "top": null,
       "visibility": null,
       "width": null
      }
     },
     "71f87560dae042f28da04d1c18cf7140": {
      "model_module": "@jupyter-widgets/controls",
      "model_module_version": "1.5.0",
      "model_name": "HTMLModel",
      "state": {
       "_dom_classes": [],
       "_model_module": "@jupyter-widgets/controls",
       "_model_module_version": "1.5.0",
       "_model_name": "HTMLModel",
       "_view_count": null,
       "_view_module": "@jupyter-widgets/controls",
       "_view_module_version": "1.5.0",
       "_view_name": "HTMLView",
       "description": "",
       "description_tooltip": null,
       "layout": "IPY_MODEL_e06d6b24444045ad8fdefc3752f876b1",
       "placeholder": "​",
       "style": "IPY_MODEL_f396a863bd1440c5bd551243b12b1b81",
       "value": " 2/2 [00:00&lt;00:00,  4.30it/s]"
      }
     },
     "7494e01e4c6d4f549d35f7dd1097837d": {
      "model_module": "@jupyter-widgets/base",
      "model_module_version": "1.2.0",
      "model_name": "LayoutModel",
      "state": {
       "_model_module": "@jupyter-widgets/base",
       "_model_module_version": "1.2.0",
       "_model_name": "LayoutModel",
       "_view_count": null,
       "_view_module": "@jupyter-widgets/base",
       "_view_module_version": "1.2.0",
       "_view_name": "LayoutView",
       "align_content": null,
       "align_items": null,
       "align_self": null,
       "border": null,
       "bottom": null,
       "display": null,
       "flex": null,
       "flex_flow": null,
       "grid_area": null,
       "grid_auto_columns": null,
       "grid_auto_flow": null,
       "grid_auto_rows": null,
       "grid_column": null,
       "grid_gap": null,
       "grid_row": null,
       "grid_template_areas": null,
       "grid_template_columns": null,
       "grid_template_rows": null,
       "height": null,
       "justify_content": null,
       "justify_items": null,
       "left": null,
       "margin": null,
       "max_height": null,
       "max_width": null,
       "min_height": null,
       "min_width": null,
       "object_fit": null,
       "object_position": null,
       "order": null,
       "overflow": null,
       "overflow_x": null,
       "overflow_y": null,
       "padding": null,
       "right": null,
       "top": null,
       "visibility": null,
       "width": null
      }
     },
     "97deb6bd3b08400a9b61780b69a2cba2": {
      "model_module": "@jupyter-widgets/controls",
      "model_module_version": "1.5.0",
      "model_name": "DescriptionStyleModel",
      "state": {
       "_model_module": "@jupyter-widgets/controls",
       "_model_module_version": "1.5.0",
       "_model_name": "DescriptionStyleModel",
       "_view_count": null,
       "_view_module": "@jupyter-widgets/base",
       "_view_module_version": "1.2.0",
       "_view_name": "StyleView",
       "description_width": ""
      }
     },
     "a665819826834d2ab0ddd37790b06cab": {
      "model_module": "@jupyter-widgets/base",
      "model_module_version": "1.2.0",
      "model_name": "LayoutModel",
      "state": {
       "_model_module": "@jupyter-widgets/base",
       "_model_module_version": "1.2.0",
       "_model_name": "LayoutModel",
       "_view_count": null,
       "_view_module": "@jupyter-widgets/base",
       "_view_module_version": "1.2.0",
       "_view_name": "LayoutView",
       "align_content": null,
       "align_items": null,
       "align_self": null,
       "border": null,
       "bottom": null,
       "display": null,
       "flex": null,
       "flex_flow": null,
       "grid_area": null,
       "grid_auto_columns": null,
       "grid_auto_flow": null,
       "grid_auto_rows": null,
       "grid_column": null,
       "grid_gap": null,
       "grid_row": null,
       "grid_template_areas": null,
       "grid_template_columns": null,
       "grid_template_rows": null,
       "height": null,
       "justify_content": null,
       "justify_items": null,
       "left": null,
       "margin": null,
       "max_height": null,
       "max_width": null,
       "min_height": null,
       "min_width": null,
       "object_fit": null,
       "object_position": null,
       "order": null,
       "overflow": null,
       "overflow_x": null,
       "overflow_y": null,
       "padding": null,
       "right": null,
       "top": null,
       "visibility": null,
       "width": null
      }
     },
     "a8311750eb914ef7b9616c9cb32ef05c": {
      "model_module": "@jupyter-widgets/controls",
      "model_module_version": "1.5.0",
      "model_name": "HTMLModel",
      "state": {
       "_dom_classes": [],
       "_model_module": "@jupyter-widgets/controls",
       "_model_module_version": "1.5.0",
       "_model_name": "HTMLModel",
       "_view_count": null,
       "_view_module": "@jupyter-widgets/controls",
       "_view_module_version": "1.5.0",
       "_view_name": "HTMLView",
       "description": "",
       "description_tooltip": null,
       "layout": "IPY_MODEL_e9af45f2bf9e4e088b959e9cf823a793",
       "placeholder": "​",
       "style": "IPY_MODEL_97deb6bd3b08400a9b61780b69a2cba2",
       "value": " 2/2 [00:01&lt;00:00,  1.04s/it]"
      }
     },
     "b851a8473452487eb9ec402aff714dfc": {
      "model_module": "@jupyter-widgets/controls",
      "model_module_version": "1.5.0",
      "model_name": "DescriptionStyleModel",
      "state": {
       "_model_module": "@jupyter-widgets/controls",
       "_model_module_version": "1.5.0",
       "_model_name": "DescriptionStyleModel",
       "_view_count": null,
       "_view_module": "@jupyter-widgets/base",
       "_view_module_version": "1.2.0",
       "_view_name": "StyleView",
       "description_width": ""
      }
     },
     "b9b96f7fce9a41259fab372267fd898f": {
      "model_module": "@jupyter-widgets/controls",
      "model_module_version": "1.5.0",
      "model_name": "HTMLModel",
      "state": {
       "_dom_classes": [],
       "_model_module": "@jupyter-widgets/controls",
       "_model_module_version": "1.5.0",
       "_model_name": "HTMLModel",
       "_view_count": null,
       "_view_module": "@jupyter-widgets/controls",
       "_view_module_version": "1.5.0",
       "_view_name": "HTMLView",
       "description": "",
       "description_tooltip": null,
       "layout": "IPY_MODEL_02ed9f1d1fcc47909aae2ad5d7012199",
       "placeholder": "​",
       "style": "IPY_MODEL_b851a8473452487eb9ec402aff714dfc",
       "value": "100%"
      }
     },
     "ce97f2427c9247a48b22cf2f7228b302": {
      "model_module": "@jupyter-widgets/base",
      "model_module_version": "1.2.0",
      "model_name": "LayoutModel",
      "state": {
       "_model_module": "@jupyter-widgets/base",
       "_model_module_version": "1.2.0",
       "_model_name": "LayoutModel",
       "_view_count": null,
       "_view_module": "@jupyter-widgets/base",
       "_view_module_version": "1.2.0",
       "_view_name": "LayoutView",
       "align_content": null,
       "align_items": null,
       "align_self": null,
       "border": null,
       "bottom": null,
       "display": null,
       "flex": null,
       "flex_flow": null,
       "grid_area": null,
       "grid_auto_columns": null,
       "grid_auto_flow": null,
       "grid_auto_rows": null,
       "grid_column": null,
       "grid_gap": null,
       "grid_row": null,
       "grid_template_areas": null,
       "grid_template_columns": null,
       "grid_template_rows": null,
       "height": null,
       "justify_content": null,
       "justify_items": null,
       "left": null,
       "margin": null,
       "max_height": null,
       "max_width": null,
       "min_height": null,
       "min_width": null,
       "object_fit": null,
       "object_position": null,
       "order": null,
       "overflow": null,
       "overflow_x": null,
       "overflow_y": null,
       "padding": null,
       "right": null,
       "top": null,
       "visibility": null,
       "width": null
      }
     },
     "d367443eeba244de837d19296cd98876": {
      "model_module": "@jupyter-widgets/controls",
      "model_module_version": "1.5.0",
      "model_name": "HBoxModel",
      "state": {
       "_dom_classes": [],
       "_model_module": "@jupyter-widgets/controls",
       "_model_module_version": "1.5.0",
       "_model_name": "HBoxModel",
       "_view_count": null,
       "_view_module": "@jupyter-widgets/controls",
       "_view_module_version": "1.5.0",
       "_view_name": "HBoxView",
       "box_style": "",
       "children": [
        "IPY_MODEL_eeeb7ee2cfde4171ab63e617f7389711",
        "IPY_MODEL_2133a6bb329b4d3988e68ae0c5c50903",
        "IPY_MODEL_71f87560dae042f28da04d1c18cf7140"
       ],
       "layout": "IPY_MODEL_7070850d7b684eb98f091c09be47f900"
      }
     },
     "de21ba6cf1d1401daa3c1a6a6101d03a": {
      "model_module": "@jupyter-widgets/controls",
      "model_module_version": "1.5.0",
      "model_name": "ProgressStyleModel",
      "state": {
       "_model_module": "@jupyter-widgets/controls",
       "_model_module_version": "1.5.0",
       "_model_name": "ProgressStyleModel",
       "_view_count": null,
       "_view_module": "@jupyter-widgets/base",
       "_view_module_version": "1.2.0",
       "_view_name": "StyleView",
       "bar_color": null,
       "description_width": ""
      }
     },
     "e06d6b24444045ad8fdefc3752f876b1": {
      "model_module": "@jupyter-widgets/base",
      "model_module_version": "1.2.0",
      "model_name": "LayoutModel",
      "state": {
       "_model_module": "@jupyter-widgets/base",
       "_model_module_version": "1.2.0",
       "_model_name": "LayoutModel",
       "_view_count": null,
       "_view_module": "@jupyter-widgets/base",
       "_view_module_version": "1.2.0",
       "_view_name": "LayoutView",
       "align_content": null,
       "align_items": null,
       "align_self": null,
       "border": null,
       "bottom": null,
       "display": null,
       "flex": null,
       "flex_flow": null,
       "grid_area": null,
       "grid_auto_columns": null,
       "grid_auto_flow": null,
       "grid_auto_rows": null,
       "grid_column": null,
       "grid_gap": null,
       "grid_row": null,
       "grid_template_areas": null,
       "grid_template_columns": null,
       "grid_template_rows": null,
       "height": null,
       "justify_content": null,
       "justify_items": null,
       "left": null,
       "margin": null,
       "max_height": null,
       "max_width": null,
       "min_height": null,
       "min_width": null,
       "object_fit": null,
       "object_position": null,
       "order": null,
       "overflow": null,
       "overflow_x": null,
       "overflow_y": null,
       "padding": null,
       "right": null,
       "top": null,
       "visibility": null,
       "width": null
      }
     },
     "e9af45f2bf9e4e088b959e9cf823a793": {
      "model_module": "@jupyter-widgets/base",
      "model_module_version": "1.2.0",
      "model_name": "LayoutModel",
      "state": {
       "_model_module": "@jupyter-widgets/base",
       "_model_module_version": "1.2.0",
       "_model_name": "LayoutModel",
       "_view_count": null,
       "_view_module": "@jupyter-widgets/base",
       "_view_module_version": "1.2.0",
       "_view_name": "LayoutView",
       "align_content": null,
       "align_items": null,
       "align_self": null,
       "border": null,
       "bottom": null,
       "display": null,
       "flex": null,
       "flex_flow": null,
       "grid_area": null,
       "grid_auto_columns": null,
       "grid_auto_flow": null,
       "grid_auto_rows": null,
       "grid_column": null,
       "grid_gap": null,
       "grid_row": null,
       "grid_template_areas": null,
       "grid_template_columns": null,
       "grid_template_rows": null,
       "height": null,
       "justify_content": null,
       "justify_items": null,
       "left": null,
       "margin": null,
       "max_height": null,
       "max_width": null,
       "min_height": null,
       "min_width": null,
       "object_fit": null,
       "object_position": null,
       "order": null,
       "overflow": null,
       "overflow_x": null,
       "overflow_y": null,
       "padding": null,
       "right": null,
       "top": null,
       "visibility": null,
       "width": null
      }
     },
     "eeeb7ee2cfde4171ab63e617f7389711": {
      "model_module": "@jupyter-widgets/controls",
      "model_module_version": "1.5.0",
      "model_name": "HTMLModel",
      "state": {
       "_dom_classes": [],
       "_model_module": "@jupyter-widgets/controls",
       "_model_module_version": "1.5.0",
       "_model_name": "HTMLModel",
       "_view_count": null,
       "_view_module": "@jupyter-widgets/controls",
       "_view_module_version": "1.5.0",
       "_view_name": "HTMLView",
       "description": "",
       "description_tooltip": null,
       "layout": "IPY_MODEL_ce97f2427c9247a48b22cf2f7228b302",
       "placeholder": "​",
       "style": "IPY_MODEL_4d83e2359e4f4e3b98d0bdc9b87df2ec",
       "value": "100%"
      }
     },
     "f396a863bd1440c5bd551243b12b1b81": {
      "model_module": "@jupyter-widgets/controls",
      "model_module_version": "1.5.0",
      "model_name": "DescriptionStyleModel",
      "state": {
       "_model_module": "@jupyter-widgets/controls",
       "_model_module_version": "1.5.0",
       "_model_name": "DescriptionStyleModel",
       "_view_count": null,
       "_view_module": "@jupyter-widgets/base",
       "_view_module_version": "1.2.0",
       "_view_name": "StyleView",
       "description_width": ""
      }
     }
    },
    "version_major": 2,
    "version_minor": 0
   }
  }
 },
 "nbformat": 4,
 "nbformat_minor": 5
}
